{
 "cells": [
  {
   "cell_type": "markdown",
   "metadata": {},
   "source": [
    " # Photo-z Interpolator \n",
    "<font size=\"2\"> code by Melissa Graham notebook by Marcquis Harris"
   ]
  },
  {
   "cell_type": "markdown",
   "metadata": {},
   "source": [
    "<font size=\"4\"> The interpolator is useful for wanting to know the standard deviation, \n",
    "the bias, and fraction of outliers for a giving set of limiting magnitudes. You can also use\n",
    "the results to plot as well which is very useful for visualy understadning the data. \n",
    "This notebook will be broken down in two parts; What it means and Examples."
   ]
  },
  {
   "cell_type": "markdown",
   "metadata": {},
   "source": [
    "# What it means"
   ]
  },
  {
   "cell_type": "markdown",
   "metadata": {},
   "source": [
    "<font size=\"4\"> Here are the accessible ranges for limiting magnitudes and red shift:\n",
    "\n",
    "\n",
    "    filters = ['u','g','r','i','z','y']\n",
    "    magmins = [23.15, 24.25, 23.95, 23.25, 22.55, 21.35]\n",
    "    magmaxs = [26.78, 27.88, 27.84, 27.15, 26.37, 25.17]\n",
    "    zbinmin = 0.30\n",
    "    zbinmax = 3.00\n",
    "    \n",
    "This means only values in these ranges will be accepted. If the values are out of this range you will get\n",
    "an error message. \n",
    "\n",
    "The redshift returned is a bin which the input redshift falls into, \n",
    "it is returned as a 5 element array of standard deviation, its error, bias, its error, and fraction of outliers\n",
    "[stddevs,stddevserr,biases, biaseserr,fouts].\n",
    "Depedning on the input you can easily change the return value you want given (exmamples will be shown below)."
   ]
  },
  {
   "cell_type": "markdown",
   "metadata": {},
   "source": [
    "# Example 1\n",
    "<font size=\"4\"> Just an input of limiting magnitudes and redshift that returns results of standard deviation. "
   ]
  },
  {
   "cell_type": "code",
   "execution_count": 2,
   "metadata": {},
   "outputs": [
    {
     "ename": "NameError",
     "evalue": "name 'mags' is not defined",
     "output_type": "error",
     "traceback": [
      "\u001b[0;31m---------------------------------------------------------------------------\u001b[0m",
      "\u001b[0;31mNameError\u001b[0m                                 Traceback (most recent call last)",
      "\u001b[0;32m<ipython-input-2-a3c048e5efe4>\u001b[0m in \u001b[0;36m<module>\u001b[0;34m()\u001b[0m\n\u001b[1;32m      2\u001b[0m \u001b[0;31m#mags = np.asarray( [26.085, 27.379, 27.531, 26.831, 26.055, 24.855], dtype='float' )\u001b[0m\u001b[0;34m\u001b[0m\u001b[0;34m\u001b[0m\u001b[0m\n\u001b[1;32m      3\u001b[0m \u001b[0;34m\u001b[0m\u001b[0m\n\u001b[0;32m----> 4\u001b[0;31m \u001b[0mmags\u001b[0m\u001b[0;34m[\u001b[0m\u001b[0;36m0\u001b[0m\u001b[0;34m]\u001b[0m\u001b[0;34m\u001b[0m\u001b[0m\n\u001b[0m\u001b[1;32m      5\u001b[0m \u001b[0mresults_zbin\u001b[0m\u001b[0;34m,\u001b[0m\u001b[0mresults_stats\u001b[0m \u001b[0;34m=\u001b[0m \u001b[0mreturn_pz_stats\u001b[0m\u001b[0;34m.\u001b[0m\u001b[0minterpolate_statistics\u001b[0m\u001b[0;34m(\u001b[0m \u001b[0mmags\u001b[0m\u001b[0;34m,\u001b[0m \u001b[0;36m0.3\u001b[0m \u001b[0;34m)\u001b[0m \u001b[0;31m# This is where you input redshift value.\u001b[0m\u001b[0;34m\u001b[0m\u001b[0m\n\u001b[1;32m      6\u001b[0m \u001b[0mstddev\u001b[0m \u001b[0;34m=\u001b[0m \u001b[0mresults_stats\u001b[0m\u001b[0;34m[\u001b[0m\u001b[0;36m0\u001b[0m\u001b[0;34m]\u001b[0m \u001b[0;31m# Changing this number (0-4) here will give you the different results discussed above.\u001b[0m\u001b[0;34m\u001b[0m\u001b[0m\n",
      "\u001b[0;31mNameError\u001b[0m: name 'mags' is not defined"
     ]
    }
   ],
   "source": [
    "# Insert the limiting magnitudes here\n",
    "mags = np.asarray( [26.085, 27.379, 27.531, 26.831, 26.055, 24.855], dtype='float' )\n",
    "\n",
    "mags[0] \n",
    "results_zbin,results_stats = return_pz_stats.interpolate_statistics( mags, 0.3 ) # This is where you input redshift value. \n",
    "stddev = results_stats[0] # Changing this number (0-4) here will give you the different results discussed above.\n",
    "del results_zbin,results_stats\n",
    "\n",
    "# Results here\n",
    "print(\"Standard deviation and error: \", results_stats[0],results_stats[1])"
   ]
  },
  {
   "cell_type": "markdown",
   "metadata": {},
   "source": [
    "# Example 2 Need to fix this one.\n",
    "<font size=\"4\"> What happens when inputs are not in range. Notice this will NOT work and you will get a error message. "
   ]
  },
  {
   "cell_type": "code",
   "execution_count": null,
   "metadata": {},
   "outputs": [],
   "source": [
    "mags = np.asarray( [80.0, 27.379, 27.531, 26.831, 26.055, 24.855], dtype='float' )\n",
    "\n",
    "# Part 3\n",
    "mags[0] \n",
    "results_zbin,results_stats = return_pz_stats.interpolate_statistics( mags, 10.6 )\n",
    "stddev = results_stats[0] # Changing this number (0-4) here will give you the different results discussed above.\n",
    "del results_zbin,results_stats\n",
    "\n",
    "# Results here\n",
    "print(stddev)\n",
    "\n",
    "# Deletes everything you dont need\n",
    "del mags"
   ]
  },
  {
   "cell_type": "markdown",
   "metadata": {},
   "source": [
    "# Example #3\n",
    "\n",
    "<font size=\"4\">\n",
    "This is an example of LSST surveys when g-band limiting magnitude is varied\n",
    "for a survey that spends half/double the amount of time in g-band exposures.\n",
    "\n",
    "The example shows g-band filter at a redshift of 0.3, using a baseline set of\n",
    "limiting magnitudes that represent the LSST depth after 10 years. \n",
    "for a survey that spends half/double the amount of time on g-band exposures</font>"
   ]
  },
  {
   "cell_type": "code",
   "execution_count": null,
   "metadata": {},
   "outputs": [],
   "source": [
    "\n",
    "mags = np.asarray( [26.085, 27.379, 27.531, 26.831, 26.055, 24.855], dtype='float' )\n",
    "\n",
    "\n",
    "gmag_hlf = 27.003\n",
    "gmag_dbl = 27.755\n",
    "\n",
    "\n",
    "mags[0] = gmag_hlf\n",
    "results_zbin,results_stats = return_pz_stats.interpolate_statistics( mags, 0.3 )\n",
    "stddev_hlf = results_stats[0]\n",
    "del results_zbin,results_stats\n",
    "\n",
    "\n",
    "mags[0] = gmag_dbl\n",
    "results_zbin,results_stats = return_pz_stats.interpolate_statistics( mags, 0.3 )\n",
    "stddev_dbl = results_stats[0]\n",
    "del results_zbin,results_stats\n",
    "\n",
    "# Results here\n",
    "print(stddev_hlf,stddev_dbl)"
   ]
  },
  {
   "cell_type": "markdown",
   "metadata": {},
   "source": [
    "<font size=\"4\"> Now lets use these results to help plot"
   ]
  },
  {
   "cell_type": "markdown",
   "metadata": {},
   "source": [
    "# Plotting:\n",
    "<font size=\"4\"> Now this shows the results of standard deviation, its error, bias, its error, and fraction of outliers\n",
    "all in one plot. </font>"
   ]
  },
  {
   "cell_type": "code",
   "execution_count": null,
   "metadata": {
    "scrolled": false
   },
   "outputs": [],
   "source": [
    "# Make arrays to hold the values we need\n",
    "half = np.zeros( 27, dtype='float' )\n",
    "dbl = np.zeros( 27, dtype='float' )\n",
    "half_stderror = np.zeros( 27, dtype='float' )\n",
    "dbl_stderror = np.zeros( 27, dtype='float' )\n",
    "half_bias = np.zeros( 27, dtype='float' )\n",
    "dbl_bias = np.zeros( 27, dtype='float' )\n",
    "half_biaserror = np.zeros( 27, dtype='float' )\n",
    "dbl_biaserror = np.zeros( 27, dtype='float' )\n",
    "half_fouts = np.zeros( 27, dtype='float' )\n",
    "dbl_fouts = np.zeros( 27, dtype='float' )\n",
    "\n",
    "redshifts = np.arange( 27, dtype='float' )*0.1 + 0.35\n",
    "gmags_hlf = np.asarray( [26.085, 27.003, 27.531, 26.831, 26.055, 24.855], dtype='float' )\n",
    "gmags_dbl = np.asarray( [26.085, 27.755, 27.531, 26.831, 26.055, 24.855], dtype='float' )\n",
    "\n",
    "# Calculating Standard Deviation just as above\n",
    "for r,redshift in enumerate(redshifts):\n",
    "    results_zbin,results_stats = return_pz_stats.interpolate_statistics( gmags_hlf, redshift )\n",
    "    half_stddev[r] = results_stats[0]\n",
    "    half_stderror[r] = results_stats[1]\n",
    "    half_bias[r] = results_stats[2]\n",
    "    ...\n",
    "    del results_zbin,results_stats\n",
    "    \n",
    "    \n",
    "    stddev_hlf = results_stats[0]\n",
    "    del results_zbin,results_stats\n",
    "    results_zbin,results_stats = return_pz_stats.interpolate_statistics( gmags_dbl, redshift )\n",
    "    stddev_dbl = results_stats[0]\n",
    "    del results_zbin,results_stats\n",
    "    half[r] = stddev_hlf \n",
    "    dbl[r] = stddev_dbl\n",
    "    del stddev_hlf,stddev_dbl\n",
    "    \n",
    "#  Calculating Standard Deviation Error\n",
    "for r,redshift in enumerate(redshifts):\n",
    "    results_zbin,results_stats = return_pz_stats.interpolate_statistics( gmags_hlf, redshift )\n",
    "    stddev_hlf = results_stats[1] # Changed number to pick error from the array bin\n",
    "    del results_zbin,results_stats\n",
    "    results_zbin,results_stats = return_pz_stats.interpolate_statistics( gmags_dbl, redshift )\n",
    "    stddev_dbl = results_stats[1] # # Changed number to pick error from the array bin\n",
    "    del results_zbin,results_stats\n",
    "    half_stderror[r] = stddev_hlf \n",
    "    dbl_stderror[r] = stddev_dbl\n",
    "    del stddev_hlf,stddev_dbl\n",
    "    \n",
    "# Calculating Bias\n",
    "for r,redshift in enumerate(redshifts):\n",
    "    results_zbin,results_stats = return_pz_stats.interpolate_statistics( gmags_hlf, redshift )\n",
    "    stddev_hlf = results_stats[2] # Changed number to pick Bias from the array bin\n",
    "    del results_zbin,results_stats\n",
    "    results_zbin,results_stats = return_pz_stats.interpolate_statistics( gmags_dbl, redshift )\n",
    "    stddev_dbl = results_stats[2] # # Changed number to pick Bias from the array bin\n",
    "    del results_zbin,results_stats\n",
    "    half_bias[r] = stddev_hlf \n",
    "    dbl_bias[r] = stddev_dbl\n",
    "    del stddev_hlf,stddev_dbl\n",
    "    \n",
    "# Calculating Bias Error\n",
    "for r,redshift in enumerate(redshifts):\n",
    "    results_zbin,results_stats = return_pz_stats.interpolate_statistics( gmags_hlf, redshift )\n",
    "    stddev_hlf = results_stats[3] # Changed number to pick Bias Error from the array bin\n",
    "    del results_zbin,results_stats\n",
    "    results_zbin,results_stats = return_pz_stats.interpolate_statistics( gmags_dbl, redshift )\n",
    "    stddev_dbl = results_stats[3] # # Changed number to pick Bias Error from the array bin\n",
    "    del results_zbin,results_stats\n",
    "    half_biaserror[r] = stddev_hlf \n",
    "    dbl_biaserror[r] = stddev_dbl\n",
    "    del stddev_hlf,stddev_dbl\n",
    "    \n",
    "# Calculating Fraction of Outliers\n",
    "for r,redshift in enumerate(redshifts):\n",
    "    results_zbin,results_stats = return_pz_stats.interpolate_statistics( gmags_hlf, redshift )\n",
    "    stddev_hlf = results_stats[4] # Changed number to pick Fraction of Outliers from the array bin\n",
    "    del results_zbin,results_stats\n",
    "    results_zbin,results_stats = return_pz_stats.interpolate_statistics( gmags_dbl, redshift )\n",
    "    stddev_dbl = results_stats[4] # # Changed number to pick Fraction of Outliers from the array bin\n",
    "    del results_zbin,results_stats\n",
    "    half_fouts[r] = stddev_hlf \n",
    "    dbl_fouts[r] = stddev_dbl\n",
    "    del stddev_hlf,stddev_dbl\n",
    "\n",
    "# Plots of half/double redshifts, standard deviation w/error, Biases w/ error and Fraction of Outliers\n",
    "\n",
    "\n",
    "plt.figure(figsize=(16,8))\n",
    "plt.rcParams.update({'font.size':20})\n",
    "plt.plot(redshifts, half, 'o', ms=10, alpha=0.5, mew=0, color='green', label='Half_Stddev')\n",
    "plt.plot(redshifts, dbl, 'o', ms=10, alpha=0.5, mew=0, color='forestgreen', label='Double_stddev')\n",
    "plt.plot(redshifts, half_stderror, '-', ms=10, alpha=0.5, mew=0, color='red', label='Half_stddeverror')\n",
    "plt.plot(redshifts, dbl_stderror, '-', ms=10, alpha=0.5, mew=0, color='red', label='Double_stddeverror')\n",
    "plt.plot(redshifts, half_bias, 'o', ms=10, alpha=0.5, mew=0, color='blue', label='Half_bias')\n",
    "plt.plot(redshifts, dbl_bias, 'o', ms=10, alpha=0.5, mew=0, color='blue', label='Double_bias')\n",
    "plt.plot(redshifts, half_biaserror, '--', ms=10, alpha=0.5, mew=0, color='red', label='Half_BiasError')\n",
    "plt.plot(redshifts, dbl_biaserror, '--', ms=10, alpha=0.5, mew=0, color='red', label='Double_BiasError')\n",
    "plt.plot(redshifts, half_fouts, 'o', ms=10, alpha=0.5, mew=0, color='pink', label='half_fouts')\n",
    "plt.plot(redshifts, dbl_fouts, 'o', ms=10, alpha=0.5, mew=0, color='pink', label='double_fouts')\n",
    "\n",
    "plt.xlabel('Photometric Redshift')\n",
    "plt.ylabel('Results')\n",
    "plt.title('Observing in filter G on Photo-z at LSST Year 10')\n",
    "plt.legend(loc='upper left',numpoints=1,markerscale=2)\n",
    "plt.show()\n",
    "# delete what is no longer needed\n",
    "del half, dbl, redshifts, gmags_hlf, gmags_dbl"
   ]
  },
  {
   "cell_type": "code",
   "execution_count": null,
   "metadata": {
    "collapsed": true
   },
   "outputs": [],
   "source": []
  }
 ],
 "metadata": {
  "kernelspec": {
   "display_name": "Python 3",
   "language": "python",
   "name": "python3"
  },
  "language_info": {
   "codemirror_mode": {
    "name": "ipython",
    "version": 3
   },
   "file_extension": ".py",
   "mimetype": "text/x-python",
   "name": "python",
   "nbconvert_exporter": "python",
   "pygments_lexer": "ipython3",
   "version": "3.5.3"
  }
 },
 "nbformat": 4,
 "nbformat_minor": 2
}

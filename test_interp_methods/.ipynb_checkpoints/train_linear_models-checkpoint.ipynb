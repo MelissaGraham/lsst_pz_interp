{
 "cells": [
  {
   "cell_type": "code",
   "execution_count": 1,
   "metadata": {
    "collapsed": true
   },
   "outputs": [],
   "source": [
    "### Import needed packages\n",
    "import os\n",
    "import numpy as np\n",
    "from copy import deepcopy\n",
    "from scipy.interpolate import griddata\n",
    "from sklearn import linear_model\n",
    "import pickle"
   ]
  },
  {
   "cell_type": "code",
   "execution_count": 33,
   "metadata": {},
   "outputs": [
    {
     "name": "stdout",
     "output_type": "stream",
     "text": [
      "Mins:   23.15  24.25  23.95  23.25  22.55  21.35\n",
      "Means:  25.64  26.90  26.91  26.23  25.47  24.27\n",
      "Maxs:   26.78  27.88  27.84  27.15  26.37  25.17\n"
     ]
    }
   ],
   "source": [
    "fnm = 'grid_hzres_stddevs.dat'\n",
    "maglims = np.loadtxt( fnm, dtype='float', usecols=(0,1,2,3,4,5))\n",
    "print( 'Mins:  %6.2f %6.2f %6.2f %6.2f %6.2f %6.2f' % tuple(np.min(maglims,axis=0)) )\n",
    "print( 'Means: %6.2f %6.2f %6.2f %6.2f %6.2f %6.2f' % tuple(np.mean(maglims,axis=0)) )\n",
    "print( 'Maxs:  %6.2f %6.2f %6.2f %6.2f %6.2f %6.2f' % tuple(np.max(maglims,axis=0)) )"
   ]
  },
  {
   "cell_type": "code",
   "execution_count": 2,
   "metadata": {},
   "outputs": [
    {
     "name": "stdout",
     "output_type": "stream",
     "text": [
      "Already exists:  pickles/stddevs_0.pkl\n",
      "Already exists:  pickles/stddevs_1.pkl\n",
      "Already exists:  pickles/stddevs_2.pkl\n",
      "Already exists:  pickles/stddevs_3.pkl\n",
      "Already exists:  pickles/stddevs_4.pkl\n",
      "Already exists:  pickles/stddevs_5.pkl\n",
      "Already exists:  pickles/stddevs_6.pkl\n",
      "Already exists:  pickles/stddevs_7.pkl\n",
      "Already exists:  pickles/stddevs_8.pkl\n",
      "Already exists:  pickles/stddevs_9.pkl\n",
      "Already exists:  pickles/stddevs_10.pkl\n",
      "Already exists:  pickles/stddevs_11.pkl\n",
      "Already exists:  pickles/stddevs_12.pkl\n",
      "Already exists:  pickles/stddevs_13.pkl\n",
      "Already exists:  pickles/stddevs_14.pkl\n",
      "Already exists:  pickles/stddevs_15.pkl\n",
      "Already exists:  pickles/stddevs_16.pkl\n",
      "Already exists:  pickles/stddevs_17.pkl\n",
      "Already exists:  pickles/stddevs_18.pkl\n",
      "Already exists:  pickles/stddevs_19.pkl\n",
      "Already exists:  pickles/stddevs_20.pkl\n",
      "Already exists:  pickles/stddevs_21.pkl\n",
      "Already exists:  pickles/stddevs_22.pkl\n",
      "Already exists:  pickles/stddevs_23.pkl\n",
      "Already exists:  pickles/stddevs_24.pkl\n",
      "Already exists:  pickles/stddevs_25.pkl\n",
      "Already exists:  pickles/stddevs_26.pkl\n",
      "Already exists:  pickles/stddevserr_0.pkl\n",
      "Already exists:  pickles/stddevserr_1.pkl\n",
      "Already exists:  pickles/stddevserr_2.pkl\n",
      "Already exists:  pickles/stddevserr_3.pkl\n",
      "Already exists:  pickles/stddevserr_4.pkl\n",
      "Already exists:  pickles/stddevserr_5.pkl\n",
      "Already exists:  pickles/stddevserr_6.pkl\n",
      "Already exists:  pickles/stddevserr_7.pkl\n",
      "Already exists:  pickles/stddevserr_8.pkl\n",
      "Already exists:  pickles/stddevserr_9.pkl\n",
      "Already exists:  pickles/stddevserr_10.pkl\n",
      "Already exists:  pickles/stddevserr_11.pkl\n",
      "Already exists:  pickles/stddevserr_12.pkl\n",
      "Already exists:  pickles/stddevserr_13.pkl\n",
      "Already exists:  pickles/stddevserr_14.pkl\n",
      "Already exists:  pickles/stddevserr_15.pkl\n",
      "Already exists:  pickles/stddevserr_16.pkl\n",
      "Already exists:  pickles/stddevserr_17.pkl\n",
      "Already exists:  pickles/stddevserr_18.pkl\n",
      "Already exists:  pickles/stddevserr_19.pkl\n",
      "Already exists:  pickles/stddevserr_20.pkl\n",
      "Already exists:  pickles/stddevserr_21.pkl\n",
      "Already exists:  pickles/stddevserr_22.pkl\n",
      "Already exists:  pickles/stddevserr_23.pkl\n",
      "Already exists:  pickles/stddevserr_24.pkl\n",
      "Already exists:  pickles/stddevserr_25.pkl\n",
      "Already exists:  pickles/stddevserr_26.pkl\n",
      "Already exists:  pickles/biases_0.pkl\n",
      "Already exists:  pickles/biases_1.pkl\n",
      "Already exists:  pickles/biases_2.pkl\n",
      "Already exists:  pickles/biases_3.pkl\n",
      "Already exists:  pickles/biases_4.pkl\n",
      "Already exists:  pickles/biases_5.pkl\n",
      "Already exists:  pickles/biases_6.pkl\n",
      "Already exists:  pickles/biases_7.pkl\n",
      "Already exists:  pickles/biases_8.pkl\n",
      "Already exists:  pickles/biases_9.pkl\n",
      "Already exists:  pickles/biases_10.pkl\n",
      "Already exists:  pickles/biases_11.pkl\n",
      "Already exists:  pickles/biases_12.pkl\n",
      "Already exists:  pickles/biases_13.pkl\n",
      "Already exists:  pickles/biases_14.pkl\n",
      "Already exists:  pickles/biases_15.pkl\n",
      "Already exists:  pickles/biases_16.pkl\n",
      "Already exists:  pickles/biases_17.pkl\n",
      "Already exists:  pickles/biases_18.pkl\n",
      "Already exists:  pickles/biases_19.pkl\n",
      "Already exists:  pickles/biases_20.pkl\n",
      "Already exists:  pickles/biases_21.pkl\n",
      "Already exists:  pickles/biases_22.pkl\n",
      "Already exists:  pickles/biases_23.pkl\n",
      "Already exists:  pickles/biases_24.pkl\n",
      "Already exists:  pickles/biases_25.pkl\n",
      "Already exists:  pickles/biases_26.pkl\n",
      "Already exists:  pickles/biaseserr_0.pkl\n",
      "Already exists:  pickles/biaseserr_1.pkl\n",
      "Already exists:  pickles/biaseserr_2.pkl\n",
      "Already exists:  pickles/biaseserr_3.pkl\n",
      "Already exists:  pickles/biaseserr_4.pkl\n",
      "Already exists:  pickles/biaseserr_5.pkl\n",
      "Already exists:  pickles/biaseserr_6.pkl\n",
      "Already exists:  pickles/biaseserr_7.pkl\n",
      "Already exists:  pickles/biaseserr_8.pkl\n",
      "Already exists:  pickles/biaseserr_9.pkl\n",
      "Already exists:  pickles/biaseserr_10.pkl\n",
      "Already exists:  pickles/biaseserr_11.pkl\n",
      "Already exists:  pickles/biaseserr_12.pkl\n",
      "Already exists:  pickles/biaseserr_13.pkl\n",
      "Already exists:  pickles/biaseserr_14.pkl\n",
      "Already exists:  pickles/biaseserr_15.pkl\n",
      "Already exists:  pickles/biaseserr_16.pkl\n",
      "Already exists:  pickles/biaseserr_17.pkl\n",
      "Already exists:  pickles/biaseserr_18.pkl\n",
      "Already exists:  pickles/biaseserr_19.pkl\n",
      "Already exists:  pickles/biaseserr_20.pkl\n",
      "Already exists:  pickles/biaseserr_21.pkl\n",
      "Already exists:  pickles/biaseserr_22.pkl\n",
      "Already exists:  pickles/biaseserr_23.pkl\n",
      "Already exists:  pickles/biaseserr_24.pkl\n",
      "Already exists:  pickles/biaseserr_25.pkl\n",
      "Already exists:  pickles/biaseserr_26.pkl\n",
      "Already exists:  pickles/fouts_0.pkl\n",
      "Already exists:  pickles/fouts_1.pkl\n",
      "Already exists:  pickles/fouts_2.pkl\n",
      "Already exists:  pickles/fouts_3.pkl\n",
      "Already exists:  pickles/fouts_4.pkl\n",
      "Already exists:  pickles/fouts_5.pkl\n",
      "Already exists:  pickles/fouts_6.pkl\n",
      "Already exists:  pickles/fouts_7.pkl\n",
      "Already exists:  pickles/fouts_8.pkl\n",
      "Already exists:  pickles/fouts_9.pkl\n",
      "Already exists:  pickles/fouts_10.pkl\n",
      "Already exists:  pickles/fouts_11.pkl\n",
      "Already exists:  pickles/fouts_12.pkl\n",
      "Already exists:  pickles/fouts_13.pkl\n",
      "Already exists:  pickles/fouts_14.pkl\n",
      "Already exists:  pickles/fouts_15.pkl\n",
      "Already exists:  pickles/fouts_16.pkl\n",
      "Already exists:  pickles/fouts_17.pkl\n",
      "Already exists:  pickles/fouts_18.pkl\n",
      "Already exists:  pickles/fouts_19.pkl\n",
      "Already exists:  pickles/fouts_20.pkl\n",
      "Already exists:  pickles/fouts_21.pkl\n",
      "Already exists:  pickles/fouts_22.pkl\n",
      "Already exists:  pickles/fouts_23.pkl\n",
      "Already exists:  pickles/fouts_24.pkl\n",
      "Already exists:  pickles/fouts_25.pkl\n",
      "Already exists:  pickles/fouts_26.pkl\n"
     ]
    }
   ],
   "source": [
    "### Train the models and pickle the results\n",
    "### Will have one pickle file per statistic, per redshift bin (5 stats * 27 zbins = 135 trained models)\n",
    "\n",
    "stats = ['stddevs','stddevserr','biases','biaseserr','fouts']\n",
    "zbins = np.arange( 27, dtype='float' )*0.10 + 0.35\n",
    "\n",
    "for stat in stats:\n",
    "    fnm = 'grid_hzres_'+stat+'.dat'\n",
    "    for z,zbin in enumerate(zbins):\n",
    "        outfnm = 'pickles/'+stat+'_'+str(z)+'.pkl'\n",
    "        if os.path.isfile(outfnm)==False:\n",
    "            zcol = z+6\n",
    "            maglims = np.loadtxt( fnm, dtype='float', usecols=(0,1,2,3,4,5))\n",
    "            values  = np.loadtxt( fnm, dtype='float', usecols={zcol})\n",
    "            reg = linear_model.LinearRegression()\n",
    "            reg.fit(maglims,values)\n",
    "\n",
    "            fout = open(outfnm,'w+b')\n",
    "            pickle.dump(reg,fout)\n",
    "            fout.close()\n",
    "\n",
    "            del zcol,maglims,values\n",
    "            del reg,outfnm,fout\n",
    "            print('Made: ',outfnm)\n",
    "        else:\n",
    "            print('Already exists: ',outfnm)\n",
    "\n",
    "    del fnm"
   ]
  },
  {
   "cell_type": "code",
   "execution_count": 11,
   "metadata": {
    "collapsed": true
   },
   "outputs": [],
   "source": [
    "### Define a test point to make sure the model pickling has worked\n",
    "test_maglims = np.asarray( [26.0, 26.0, 26.0, 26.0, 26.0, 24.0], dtype='float' )"
   ]
  },
  {
   "cell_type": "code",
   "execution_count": 34,
   "metadata": {},
   "outputs": [
    {
     "name": "stdout",
     "output_type": "stream",
     "text": [
      "method = nearest\n",
      "[ 0.045622]\n",
      "reg.predict(test_maglims) =  [ 0.04743261]\n"
     ]
    }
   ],
   "source": [
    "### First calculate the interpolated value we expect from the pickle, in two ways\n",
    "fnm = 'grid_hzres_stddevs.dat'\n",
    "maglims = np.loadtxt( fnm, dtype='float', usecols=(0,1,2,3,4,5))\n",
    "values  = np.loadtxt( fnm, dtype='float', usecols={6})\n",
    "\n",
    "results = griddata(maglims,values,test_maglims,method='nearest')\n",
    "print('method = nearest')\n",
    "print(results)\n",
    "del results\n",
    "\n",
    "reg = linear_model.LinearRegression()\n",
    "reg.fit(maglims,values)\n",
    "print('reg.predict(test_maglims) = ', reg.predict(test_maglims.reshape(1,-1)) )\n",
    "del fnm,maglims,values,reg"
   ]
  },
  {
   "cell_type": "code",
   "execution_count": 35,
   "metadata": {},
   "outputs": [
    {
     "name": "stdout",
     "output_type": "stream",
     "text": [
      "reg.predict(test_maglims) =  [ 0.04743261]\n"
     ]
    }
   ],
   "source": [
    "### Now unpickle and compare with what the result should be from above cell\n",
    "fnm = 'pickles/stddevs_0.pkl'\n",
    "fin = open(fnm,'r+b')\n",
    "reg = pickle.load(fin)\n",
    "print('reg.predict(test_maglims) = ', reg.predict(test_maglims.reshape(1,-1)) )\n",
    "del fnm,reg\n",
    "fin.close()"
   ]
  },
  {
   "cell_type": "code",
   "execution_count": null,
   "metadata": {
    "collapsed": true
   },
   "outputs": [],
   "source": []
  }
 ],
 "metadata": {
  "kernelspec": {
   "display_name": "Python 3",
   "language": "python",
   "name": "python3"
  },
  "language_info": {
   "codemirror_mode": {
    "name": "ipython",
    "version": 3
   },
   "file_extension": ".py",
   "mimetype": "text/x-python",
   "name": "python",
   "nbconvert_exporter": "python",
   "pygments_lexer": "ipython3",
   "version": "3.5.3"
  }
 },
 "nbformat": 4,
 "nbformat_minor": 2
}
